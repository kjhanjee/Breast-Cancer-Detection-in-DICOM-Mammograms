{
 "cells": [
  {
   "cell_type": "code",
   "execution_count": 1,
   "id": "b8204306",
   "metadata": {
    "execution": {
     "iopub.execute_input": "2023-02-03T10:25:32.736209Z",
     "iopub.status.busy": "2023-02-03T10:25:32.735159Z",
     "iopub.status.idle": "2023-02-03T10:25:42.121898Z",
     "shell.execute_reply": "2023-02-03T10:25:42.120671Z"
    },
    "papermill": {
     "duration": 9.3991,
     "end_time": "2023-02-03T10:25:42.125049",
     "exception": false,
     "start_time": "2023-02-03T10:25:32.725949",
     "status": "completed"
    },
    "tags": []
   },
   "outputs": [],
   "source": [
    "import numpy as np # linear algebra\n",
    "import pandas as pd # data processing, CSV file I/O (e.g. pd.read_csv)\n",
    "import cv2 # image algebra \n",
    "import os # OS Paths\n",
    "from statsmodels.stats.outliers_influence import variance_inflation_factor\n",
    "import gc\n",
    "#from tqdm.notebook import tqdm\n",
    "import matplotlib.pyplot as plt\n",
    "import time\n",
    "import tensorflow as tf\n",
    "import tensorflow_addons as tfa\n",
    "import tensorflow.keras as keras\n",
    "os.environ['TF_CPP_MIN_LOG_LEVEL'] = '3'\n",
    "from sklearn.model_selection import train_test_split\n",
    "from statistics import mean\n",
    "from sklearn.metrics import classification_report\n",
    "from sklearn.metrics import accuracy_score, f1_score\n",
    "tf.compat.v1.logging.set_verbosity(tf.compat.v1.logging.ERROR)\n",
    "#tqdm.pandas()\n",
    "pd.options.display.max_rows = 999"
   ]
  },
  {
   "cell_type": "code",
   "execution_count": 2,
   "id": "dbe6842b",
   "metadata": {
    "execution": {
     "iopub.execute_input": "2023-02-03T10:25:42.138895Z",
     "iopub.status.busy": "2023-02-03T10:25:42.138217Z",
     "iopub.status.idle": "2023-02-03T10:25:42.277049Z",
     "shell.execute_reply": "2023-02-03T10:25:42.275732Z"
    },
    "papermill": {
     "duration": 0.149098,
     "end_time": "2023-02-03T10:25:42.280210",
     "exception": false,
     "start_time": "2023-02-03T10:25:42.131112",
     "status": "completed"
    },
    "tags": []
   },
   "outputs": [],
   "source": [
    "train_metadata = pd.read_csv('/kaggle/input/rsna-breast-cancer-detection/train.csv')"
   ]
  },
  {
   "cell_type": "code",
   "execution_count": 3,
   "id": "dc9a3cae",
   "metadata": {
    "execution": {
     "iopub.execute_input": "2023-02-03T10:25:42.293798Z",
     "iopub.status.busy": "2023-02-03T10:25:42.293364Z",
     "iopub.status.idle": "2023-02-03T10:25:42.343756Z",
     "shell.execute_reply": "2023-02-03T10:25:42.342673Z"
    },
    "papermill": {
     "duration": 0.0604,
     "end_time": "2023-02-03T10:25:42.346572",
     "exception": false,
     "start_time": "2023-02-03T10:25:42.286172",
     "status": "completed"
    },
    "tags": []
   },
   "outputs": [],
   "source": [
    "train_metadata['age_bins'] = pd.qcut(train_metadata['age'], q=10)\n",
    "age_bins = pd.qcut(train_metadata['age'], q=10).unique().categories\n",
    "age_bin_map = {}\n",
    "for index in range(len(age_bins)):\n",
    "    bucket = age_bins[index]\n",
    "    age_bin_map[bucket] = index"
   ]
  },
  {
   "cell_type": "code",
   "execution_count": 4,
   "id": "5efa26d3",
   "metadata": {
    "execution": {
     "iopub.execute_input": "2023-02-03T10:25:42.360241Z",
     "iopub.status.busy": "2023-02-03T10:25:42.359837Z",
     "iopub.status.idle": "2023-02-03T10:25:42.365601Z",
     "shell.execute_reply": "2023-02-03T10:25:42.364513Z"
    },
    "papermill": {
     "duration": 0.015289,
     "end_time": "2023-02-03T10:25:42.367978",
     "exception": false,
     "start_time": "2023-02-03T10:25:42.352689",
     "status": "completed"
    },
    "tags": []
   },
   "outputs": [],
   "source": [
    "def apply_age_bins(x):\n",
    "    for age_bin in age_bins:\n",
    "        if x['age'] in age_bin:\n",
    "            return age_bin_map[age_bin]"
   ]
  },
  {
   "cell_type": "code",
   "execution_count": 5,
   "id": "bbcae600",
   "metadata": {
    "execution": {
     "iopub.execute_input": "2023-02-03T10:25:42.381940Z",
     "iopub.status.busy": "2023-02-03T10:25:42.381485Z",
     "iopub.status.idle": "2023-02-03T10:25:42.409172Z",
     "shell.execute_reply": "2023-02-03T10:25:42.407832Z"
    },
    "papermill": {
     "duration": 0.037681,
     "end_time": "2023-02-03T10:25:42.411761",
     "exception": false,
     "start_time": "2023-02-03T10:25:42.374080",
     "status": "completed"
    },
    "tags": []
   },
   "outputs": [
    {
     "data": {
      "text/html": [
       "<div>\n",
       "<style scoped>\n",
       "    .dataframe tbody tr th:only-of-type {\n",
       "        vertical-align: middle;\n",
       "    }\n",
       "\n",
       "    .dataframe tbody tr th {\n",
       "        vertical-align: top;\n",
       "    }\n",
       "\n",
       "    .dataframe thead th {\n",
       "        text-align: right;\n",
       "    }\n",
       "</style>\n",
       "<table border=\"1\" class=\"dataframe\">\n",
       "  <thead>\n",
       "    <tr style=\"text-align: right;\">\n",
       "      <th></th>\n",
       "      <th>site_id</th>\n",
       "      <th>patient_id</th>\n",
       "      <th>image_id</th>\n",
       "      <th>laterality</th>\n",
       "      <th>view</th>\n",
       "      <th>age</th>\n",
       "      <th>implant</th>\n",
       "      <th>machine_id</th>\n",
       "      <th>prediction_id</th>\n",
       "    </tr>\n",
       "  </thead>\n",
       "  <tbody>\n",
       "    <tr>\n",
       "      <th>0</th>\n",
       "      <td>2</td>\n",
       "      <td>10008</td>\n",
       "      <td>736471439</td>\n",
       "      <td>L</td>\n",
       "      <td>MLO</td>\n",
       "      <td>81</td>\n",
       "      <td>0</td>\n",
       "      <td>21</td>\n",
       "      <td>10008_L</td>\n",
       "    </tr>\n",
       "    <tr>\n",
       "      <th>1</th>\n",
       "      <td>2</td>\n",
       "      <td>10008</td>\n",
       "      <td>1591370361</td>\n",
       "      <td>L</td>\n",
       "      <td>CC</td>\n",
       "      <td>81</td>\n",
       "      <td>0</td>\n",
       "      <td>21</td>\n",
       "      <td>10008_L</td>\n",
       "    </tr>\n",
       "    <tr>\n",
       "      <th>2</th>\n",
       "      <td>2</td>\n",
       "      <td>10008</td>\n",
       "      <td>68070693</td>\n",
       "      <td>R</td>\n",
       "      <td>MLO</td>\n",
       "      <td>81</td>\n",
       "      <td>0</td>\n",
       "      <td>21</td>\n",
       "      <td>10008_R</td>\n",
       "    </tr>\n",
       "    <tr>\n",
       "      <th>3</th>\n",
       "      <td>2</td>\n",
       "      <td>10008</td>\n",
       "      <td>361203119</td>\n",
       "      <td>R</td>\n",
       "      <td>CC</td>\n",
       "      <td>81</td>\n",
       "      <td>0</td>\n",
       "      <td>21</td>\n",
       "      <td>10008_R</td>\n",
       "    </tr>\n",
       "  </tbody>\n",
       "</table>\n",
       "</div>"
      ],
      "text/plain": [
       "   site_id  patient_id    image_id laterality view  age  implant  machine_id  \\\n",
       "0        2       10008   736471439          L  MLO   81        0          21   \n",
       "1        2       10008  1591370361          L   CC   81        0          21   \n",
       "2        2       10008    68070693          R  MLO   81        0          21   \n",
       "3        2       10008   361203119          R   CC   81        0          21   \n",
       "\n",
       "  prediction_id  \n",
       "0       10008_L  \n",
       "1       10008_L  \n",
       "2       10008_R  \n",
       "3       10008_R  "
      ]
     },
     "execution_count": 5,
     "metadata": {},
     "output_type": "execute_result"
    }
   ],
   "source": [
    "test_metadata = pd.read_csv(\"/kaggle/input/rsna-breast-cancer-detection/test.csv\")\n",
    "test_metadata.head(5)"
   ]
  },
  {
   "cell_type": "code",
   "execution_count": 6,
   "id": "a3df1b18",
   "metadata": {
    "execution": {
     "iopub.execute_input": "2023-02-03T10:25:42.427184Z",
     "iopub.status.busy": "2023-02-03T10:25:42.425732Z",
     "iopub.status.idle": "2023-02-03T10:25:42.432598Z",
     "shell.execute_reply": "2023-02-03T10:25:42.431435Z"
    },
    "papermill": {
     "duration": 0.01685,
     "end_time": "2023-02-03T10:25:42.434918",
     "exception": false,
     "start_time": "2023-02-03T10:25:42.418068",
     "status": "completed"
    },
    "tags": []
   },
   "outputs": [],
   "source": [
    "view_map = {'MLO':5,'CC':4,'AT':3,'LM':2,'ML':1,'LMO':0}"
   ]
  },
  {
   "cell_type": "code",
   "execution_count": 7,
   "id": "3f5e4e95",
   "metadata": {
    "execution": {
     "iopub.execute_input": "2023-02-03T10:25:42.449332Z",
     "iopub.status.busy": "2023-02-03T10:25:42.448929Z",
     "iopub.status.idle": "2023-02-03T10:25:42.456622Z",
     "shell.execute_reply": "2023-02-03T10:25:42.455444Z"
    },
    "papermill": {
     "duration": 0.017684,
     "end_time": "2023-02-03T10:25:42.459017",
     "exception": false,
     "start_time": "2023-02-03T10:25:42.441333",
     "status": "completed"
    },
    "tags": []
   },
   "outputs": [],
   "source": [
    "test_metadata['view'] = test_metadata['view'].apply(lambda x: view_map[x] if x in view_map.keys() else x)"
   ]
  },
  {
   "cell_type": "code",
   "execution_count": 8,
   "id": "002ba343",
   "metadata": {
    "execution": {
     "iopub.execute_input": "2023-02-03T10:25:42.473602Z",
     "iopub.status.busy": "2023-02-03T10:25:42.473168Z",
     "iopub.status.idle": "2023-02-03T10:25:42.483694Z",
     "shell.execute_reply": "2023-02-03T10:25:42.482542Z"
    },
    "papermill": {
     "duration": 0.02088,
     "end_time": "2023-02-03T10:25:42.486278",
     "exception": false,
     "start_time": "2023-02-03T10:25:42.465398",
     "status": "completed"
    },
    "tags": []
   },
   "outputs": [],
   "source": [
    "test_metadata['age_bins'] = test_metadata.apply(lambda x: apply_age_bins(x),axis =1)"
   ]
  },
  {
   "cell_type": "code",
   "execution_count": 9,
   "id": "334e68ac",
   "metadata": {
    "execution": {
     "iopub.execute_input": "2023-02-03T10:25:42.501305Z",
     "iopub.status.busy": "2023-02-03T10:25:42.500486Z",
     "iopub.status.idle": "2023-02-03T10:25:42.509117Z",
     "shell.execute_reply": "2023-02-03T10:25:42.507869Z"
    },
    "papermill": {
     "duration": 0.018621,
     "end_time": "2023-02-03T10:25:42.511418",
     "exception": false,
     "start_time": "2023-02-03T10:25:42.492797",
     "status": "completed"
    },
    "tags": []
   },
   "outputs": [],
   "source": [
    "test_images_path = \"/kaggle/input/bcd-test-npy/test/\"\n",
    "test_images = {}\n",
    "for index in test_metadata.index:\n",
    "    row = test_metadata.loc[index,:]\n",
    "    folder = str(int(row['patient_id']))\n",
    "    file = str(int(row['image_id']))\n",
    "    if not folder in test_images.keys():\n",
    "        test_images[folder] = {}\n",
    "    test_images[folder][file] = test_images_path+'/'+file+'.npy'"
   ]
  },
  {
   "cell_type": "code",
   "execution_count": 10,
   "id": "7e86cfdc",
   "metadata": {
    "execution": {
     "iopub.execute_input": "2023-02-03T10:25:42.526374Z",
     "iopub.status.busy": "2023-02-03T10:25:42.525948Z",
     "iopub.status.idle": "2023-02-03T10:25:42.546702Z",
     "shell.execute_reply": "2023-02-03T10:25:42.545779Z"
    },
    "papermill": {
     "duration": 0.031141,
     "end_time": "2023-02-03T10:25:42.549119",
     "exception": false,
     "start_time": "2023-02-03T10:25:42.517978",
     "status": "completed"
    },
    "tags": []
   },
   "outputs": [],
   "source": [
    "class dataset:\n",
    "    def __init__(self,data,target = None, dataset_type = 'train'):\n",
    "        self.dataset_type = dataset_type\n",
    "        self.images = data['image'].to_list()\n",
    "        self.views = data['view'].to_list()\n",
    "        self.age_bins = data['age_bins'].to_list()\n",
    "        self.implants = data['implant'].to_list()\n",
    "        if self.dataset_type == 'train':\n",
    "            self.target = target.tolist()\n",
    "            \n",
    "    \n",
    "    def randomize(self):\n",
    "        p = np.random.permutation(len(self.images)).tolist()\n",
    "        self.images = [self.images[i] for i in p]\n",
    "        self.views = [self.views[i] for i in p]\n",
    "        self.age_bins = [self.age_bins[i] for i in p]\n",
    "        self.implants = [self.implants[i] for i in p]\n",
    "        if self.dataset_type == 'train':\n",
    "            self.target = [self.target[i] for i in p]\n",
    "            \n",
    "    def generate_batches(self, batch_size):\n",
    "        #num_batches = len(self.images) // batch_size \n",
    "        for i in range(0,len(self.images),batch_size):\n",
    "            if i < len(self.images) - 1:\n",
    "                if i + batch_size < len(self.views) - 1:\n",
    "                    views_batch = np.array(self.views[i:i+batch_size])\n",
    "                    age_batch = np.array(self.age_bins[i:i+batch_size]).astype(float)\n",
    "                    implants_batch = np.array(self.implants[i:i+batch_size]).astype(float)\n",
    "                    if self.dataset_type == 'train':\n",
    "                        target_batch = np.vstack([np.array(target) for target in self.target[i:i+batch_size]]).astype(float)\n",
    "                    images_batch = []\n",
    "                    for path in self.images[i:i+batch_size]:\n",
    "                        img = np.load(path)\n",
    "                        img = img/255\n",
    "                        img = img.reshape(img.shape[0],img.shape[1],1)\n",
    "                        images_batch.append(img)\n",
    "                    images_batch = np.array(images_batch)\n",
    "                else:\n",
    "                    views_batch = np.array(self.views[i:])\n",
    "                    age_batch = np.array(self.age_bins[i:]).astype(float)\n",
    "                    implants_batch = np.array(self.implants[i:]).astype(float)\n",
    "                    if self.dataset_type == 'train':\n",
    "                        target_batch = np.vstack([np.array(target) for target in self.target[i:]]).astype(float)\n",
    "                    images_batch = []\n",
    "                    for path in self.images[i:]:\n",
    "                        img = np.load(path)\n",
    "                        img = img/255\n",
    "                        img = img.reshape(img.shape[0],img.shape[1],1)\n",
    "                        images_batch.append(img)\n",
    "                    images_batch = np.array(images_batch)\n",
    "                cat_batch = np.vstack([implants_batch,age_batch])\n",
    "                cat_batch = cat_batch.transpose()\n",
    "            if self.dataset_type == 'train':\n",
    "                yield cat_batch, views_batch, images_batch, target_batch\n",
    "            else:\n",
    "                yield cat_batch, views_batch, images_batch, 0\n",
    "    \n",
    "    def size(self):\n",
    "        return len(self.images)\n",
    "    \n",
    "    def num_batches(self,batch_size):\n",
    "        if len(self.images) % batch_size == 0:\n",
    "            num_batches = len(self.images) // batch_size\n",
    "        else:\n",
    "            num_batches = len(self.images) // batch_size\n",
    "            num_batches += 1\n",
    "        return num_batches"
   ]
  },
  {
   "cell_type": "code",
   "execution_count": 11,
   "id": "6921e35c",
   "metadata": {
    "execution": {
     "iopub.execute_input": "2023-02-03T10:25:42.563883Z",
     "iopub.status.busy": "2023-02-03T10:25:42.563406Z",
     "iopub.status.idle": "2023-02-03T10:25:42.748067Z",
     "shell.execute_reply": "2023-02-03T10:25:42.746742Z"
    },
    "papermill": {
     "duration": 0.19482,
     "end_time": "2023-02-03T10:25:42.750405",
     "exception": false,
     "start_time": "2023-02-03T10:25:42.555585",
     "status": "completed"
    },
    "tags": []
   },
   "outputs": [
    {
     "data": {
      "text/plain": [
       "21"
      ]
     },
     "execution_count": 11,
     "metadata": {},
     "output_type": "execute_result"
    }
   ],
   "source": [
    "test_metadata['image'] = test_metadata.apply(lambda x: test_images[str(int(x['patient_id']))][str(int(x['image_id']))],axis = 1)\n",
    "del(test_images)\n",
    "gc.collect()"
   ]
  },
  {
   "cell_type": "code",
   "execution_count": 12,
   "id": "09e98876",
   "metadata": {
    "execution": {
     "iopub.execute_input": "2023-02-03T10:25:42.765767Z",
     "iopub.status.busy": "2023-02-03T10:25:42.765364Z",
     "iopub.status.idle": "2023-02-03T10:25:42.770898Z",
     "shell.execute_reply": "2023-02-03T10:25:42.769521Z"
    },
    "papermill": {
     "duration": 0.016201,
     "end_time": "2023-02-03T10:25:42.773357",
     "exception": false,
     "start_time": "2023-02-03T10:25:42.757156",
     "status": "completed"
    },
    "tags": []
   },
   "outputs": [],
   "source": [
    "test_dataset = dataset(test_metadata,dataset_type = 'test')"
   ]
  },
  {
   "cell_type": "code",
   "execution_count": 13,
   "id": "9f018665",
   "metadata": {
    "execution": {
     "iopub.execute_input": "2023-02-03T10:25:42.789664Z",
     "iopub.status.busy": "2023-02-03T10:25:42.789215Z",
     "iopub.status.idle": "2023-02-03T10:25:43.300837Z",
     "shell.execute_reply": "2023-02-03T10:25:43.299589Z"
    },
    "papermill": {
     "duration": 0.523041,
     "end_time": "2023-02-03T10:25:43.303468",
     "exception": false,
     "start_time": "2023-02-03T10:25:42.780427",
     "status": "completed"
    },
    "tags": []
   },
   "outputs": [
    {
     "name": "stdout",
     "output_type": "stream",
     "text": [
      "(4, 1024, 1024, 1)\n"
     ]
    },
    {
     "data": {
      "image/png": "[encoded data removed]",
      "text/plain": [
       "<Figure size 432x288 with 1 Axes>"
      ]
     },
     "metadata": {
      "needs_background": "light"
     },
     "output_type": "display_data"
    }
   ],
   "source": [
    "for cat_batch, views_batch, images_batch, target_batch in test_dataset.generate_batches(4):\n",
    "    plt.imshow(images_batch[0])\n",
    "    print(images_batch.shape)\n",
    "    break"
   ]
  },
  {
   "cell_type": "code",
   "execution_count": 14,
   "id": "ff708ad6",
   "metadata": {
    "execution": {
     "iopub.execute_input": "2023-02-03T10:25:43.322842Z",
     "iopub.status.busy": "2023-02-03T10:25:43.322214Z",
     "iopub.status.idle": "2023-02-03T10:25:43.326222Z",
     "shell.execute_reply": "2023-02-03T10:25:43.325512Z"
    },
    "papermill": {
     "duration": 0.015937,
     "end_time": "2023-02-03T10:25:43.328277",
     "exception": false,
     "start_time": "2023-02-03T10:25:43.312340",
     "status": "completed"
    },
    "tags": []
   },
   "outputs": [],
   "source": [
    "test_dataset = dataset(test_metadata,dataset_type = 'test')"
   ]
  },
  {
   "cell_type": "code",
   "execution_count": 15,
   "id": "6c9d0c24",
   "metadata": {
    "execution": {
     "iopub.execute_input": "2023-02-03T10:25:43.347351Z",
     "iopub.status.busy": "2023-02-03T10:25:43.346396Z",
     "iopub.status.idle": "2023-02-03T10:25:43.362749Z",
     "shell.execute_reply": "2023-02-03T10:25:43.361393Z"
    },
    "papermill": {
     "duration": 0.028461,
     "end_time": "2023-02-03T10:25:43.365094",
     "exception": false,
     "start_time": "2023-02-03T10:25:43.336633",
     "status": "completed"
    },
    "tags": []
   },
   "outputs": [],
   "source": [
    "class encoder(tf.keras.layers.Layer):\n",
    "    def __init__(self,size:tuple):\n",
    "        super(encoder, self).__init__()\n",
    "        #encoder Module\n",
    "        self.input_cnn = keras.layers.InputLayer(input_shape=(size[0],size[1],size[2]))\n",
    "        # Ex0panding features for computation\n",
    "        self.conv_1 = keras.layers.Conv2D(input_shape=(size[0],size[1],size[2]),filters=8,kernel_size=(3,3),padding='same',activation='relu')\n",
    "        # 1/4 size reduction\n",
    "        self.conv_2 = keras.layers.MaxPool2D(pool_size=(2,2),strides=(2,2))\n",
    "        self.conv_3 = keras.layers.Conv2D(filters = 16,kernel_size=(4,4),strides=(2,2),padding='same',activation='relu')\n",
    "        self.conv_4 = keras.layers.Conv2D(filters = 32,kernel_size=(4,4),strides=(4,4),padding='same',activation='relu')\n",
    "        self.conv_5 = keras.layers.BatchNormalization()\n",
    "        # 1/2 size reduction\n",
    "        self.conv_6 = keras.layers.MaxPool2D(pool_size=(2,2),strides=(2,2))\n",
    "        # 3x3 Filter third application\n",
    "        self.conv_7 = keras.layers.Conv2D(filters = 64,kernel_size=(8,8),strides=(8,8),padding='same',activation='relu')\n",
    "        # 1/4 size reduction\n",
    "        self.conv_8 = keras.layers.MaxPool2D(pool_size=(2,2),strides=(2,2))\n",
    "        # 3x3 Filter third application\n",
    "        self.conv_9 = keras.layers.BatchNormalization()\n",
    "        self.conv_10 = keras.layers.Conv2D(filters = 1 ,kernel_size=(3,3),strides=(1,1),padding='same',activation='relu')\n",
    "        #Flatten output\n",
    "        self.flatten = keras.layers.Flatten()\n",
    "        \n",
    "    \n",
    "    def call(self,inputs,training = True):\n",
    "        x = self.input_cnn(inputs)\n",
    "        x = self.conv_1(x)\n",
    "        x = self.conv_2(x)\n",
    "        x = self.conv_3(x)\n",
    "        x = self.conv_4(x)\n",
    "        if training == True:\n",
    "            x = self.conv_5(x,training = True)\n",
    "        else:\n",
    "            x = self.conv_5(x,training = False)\n",
    "        x = self.conv_6(x)\n",
    "        x = self.conv_7(x)\n",
    "        x = self.conv_8(x)\n",
    "        if training == True:\n",
    "            x = self.conv_9(x,training = True)\n",
    "        else:\n",
    "            x = self.conv_9(x,training = False)\n",
    "        x = self.conv_10(x)\n",
    "        x = self.flatten(x)\n",
    "        return x"
   ]
  },
  {
   "cell_type": "code",
   "execution_count": 16,
   "id": "84a908f5",
   "metadata": {
    "execution": {
     "iopub.execute_input": "2023-02-03T10:25:43.384009Z",
     "iopub.status.busy": "2023-02-03T10:25:43.383219Z",
     "iopub.status.idle": "2023-02-03T10:25:43.962956Z",
     "shell.execute_reply": "2023-02-03T10:25:43.961512Z"
    },
    "papermill": {
     "duration": 0.592043,
     "end_time": "2023-02-03T10:25:43.965542",
     "exception": false,
     "start_time": "2023-02-03T10:25:43.373499",
     "status": "completed"
    },
    "tags": []
   },
   "outputs": [
    {
     "name": "stdout",
     "output_type": "stream",
     "text": [
      "Weights:  14\n"
     ]
    }
   ],
   "source": [
    "en = encoder((1024,1024,1))\n",
    "y = en(images_batch)\n",
    "\n",
    "print(\"Weights: \", len(en.trainable_weights))"
   ]
  },
  {
   "cell_type": "code",
   "execution_count": 17,
   "id": "ba1fa162",
   "metadata": {
    "execution": {
     "iopub.execute_input": "2023-02-03T10:25:43.984911Z",
     "iopub.status.busy": "2023-02-03T10:25:43.984498Z",
     "iopub.status.idle": "2023-02-03T10:25:43.992155Z",
     "shell.execute_reply": "2023-02-03T10:25:43.990925Z"
    },
    "papermill": {
     "duration": 0.020588,
     "end_time": "2023-02-03T10:25:43.994759",
     "exception": false,
     "start_time": "2023-02-03T10:25:43.974171",
     "status": "completed"
    },
    "tags": []
   },
   "outputs": [],
   "source": [
    "class classifier(tf.keras.layers.Layer):\n",
    "    def __init__(self,units):\n",
    "        super(classifier, self).__init__()\n",
    "        \n",
    "        # Feature Reduction layer 1\n",
    "        self.dense1 = keras.layers.Dense(units,activation = 'relu')\n",
    "        \n",
    "        # Dropout Layer\n",
    "        #self.dropout = keras.layers.Dropout(0.1)\n",
    "        \n",
    "        # Feature Reduction Layer 2\n",
    "        self.dense2 = keras.layers.Dense(int(units/8),activation = 'relu')\n",
    "        \n",
    "        # Classification Layer\n",
    "        self.dense3 = keras.layers.Dense(1,activation = 'sigmoid')\n",
    "    \n",
    "    def call(self,inputs): \n",
    "        x = self.dense1(inputs)\n",
    "        x = self.dense2(x)\n",
    "        #x = self.dropout(x)\n",
    "        x = self.dense3(x)\n",
    "        return x"
   ]
  },
  {
   "cell_type": "code",
   "execution_count": 18,
   "id": "0a8b4f5f",
   "metadata": {
    "execution": {
     "iopub.execute_input": "2023-02-03T10:25:44.015192Z",
     "iopub.status.busy": "2023-02-03T10:25:44.014792Z",
     "iopub.status.idle": "2023-02-03T10:25:44.324152Z",
     "shell.execute_reply": "2023-02-03T10:25:44.322754Z"
    },
    "papermill": {
     "duration": 0.323376,
     "end_time": "2023-02-03T10:25:44.327532",
     "exception": false,
     "start_time": "2023-02-03T10:25:44.004156",
     "status": "completed"
    },
    "tags": []
   },
   "outputs": [
    {
     "name": "stdout",
     "output_type": "stream",
     "text": [
      "Weights : 6\n"
     ]
    }
   ],
   "source": [
    "inputs = np.zeros((1049385,1))\n",
    "cl = classifier(32)\n",
    "y = cl(inputs)\n",
    "\n",
    "print(\"Weights :\", len(cl.trainable_weights))"
   ]
  },
  {
   "cell_type": "code",
   "execution_count": 19,
   "id": "cb87008d",
   "metadata": {
    "execution": {
     "iopub.execute_input": "2023-02-03T10:25:44.348096Z",
     "iopub.status.busy": "2023-02-03T10:25:44.347643Z",
     "iopub.status.idle": "2023-02-03T10:25:44.393514Z",
     "shell.execute_reply": "2023-02-03T10:25:44.392371Z"
    },
    "papermill": {
     "duration": 0.059391,
     "end_time": "2023-02-03T10:25:44.396413",
     "exception": false,
     "start_time": "2023-02-03T10:25:44.337022",
     "status": "completed"
    },
    "tags": []
   },
   "outputs": [],
   "source": [
    "class BCDClassifier(tf.keras.Model):\n",
    "    def __init__(self, size: tuple, optimizer = keras.optimizers.Adam(learning_rate=1e-3),loss_fn = keras.losses.BinaryCrossentropy(from_logits=False),metric = tf.keras.metrics.Accuracy()):\n",
    "        super(BCDClassifier, self).__init__()\n",
    "       \n",
    "        #Input for catagorical data\n",
    "        self.input_cat = keras.layers.InputLayer(input_shape = 2)\n",
    "        \n",
    "        #Encoder Layer for each view\n",
    "        self.encode = encoder(size)\n",
    "        \n",
    "        #Concatenate Layer\n",
    "        self.concat = keras.layers.Concatenate(axis = 1)\n",
    "        \n",
    "        #Classifier layer\n",
    "        self.classify = classifier(32)\n",
    "        \n",
    "        #deffine model parameters\n",
    "        self.optimizer = optimizer\n",
    "        self.loss_fn = loss_fn\n",
    "        self.loss_tracker = keras.metrics.Mean(name=\"loss\")\n",
    "        self.acc_tracker = metric\n",
    "        self.f1_tracker = tfa.metrics.F1Score(num_classes=2, threshold=0.5, average = 'micro')\n",
    "        self.sk_metric_acc = accuracy_score\n",
    "        self.sk_metric_f1 = f1_score\n",
    "        self.acc_history = []\n",
    "        self.loss_history = []\n",
    "        self.f1_history = []\n",
    "\n",
    "        \n",
    "    # Forward pass of model - order does matter.\n",
    "    def call(self, cat_batch, view_batch, images_batch, training = True):\n",
    "        x1 = self.encode(images_batch,training)\n",
    "                \n",
    "        #calling Categorical processor\n",
    "        x2 = self.input_cat(cat_batch)\n",
    "            \n",
    "        #calling \n",
    "        x12 = self.concat([x1,x2])\n",
    "        x12 = self.classify(x12)          \n",
    "        return x12\n",
    "    \n",
    "    def train_step(self,cat_batch, views_batch, images_batch, target_batch, training = True):\n",
    "        \n",
    "        with tf.GradientTape() as tape:\n",
    "            logits = self(cat_batch, views_batch, images_batch,training)\n",
    "            loss_value = self.loss_fn(target_batch, logits)\n",
    "\n",
    "        grads = tape.gradient(loss_value, self.trainable_weights)\n",
    "\n",
    "        self.optimizer.apply_gradients(zip(grads, self.trainable_weights))\n",
    "        \n",
    "        self.loss_tracker.update_state(loss_value)\n",
    "        \n",
    "        pred = []\n",
    "        target = []\n",
    "        threshold = 0.5\n",
    "        for val in logits.numpy():\n",
    "                if isinstance(val,np.ndarray):\n",
    "                    for v_1 in val:\n",
    "                        if isinstance(v_1,np.ndarray):\n",
    "                            for v_2 in v_1:\n",
    "                                if v_2 > threshold:\n",
    "                                    pred.append(1.0)\n",
    "                                else:\n",
    "                                    pred.append(0.0)\n",
    "                        else:\n",
    "                            if v_1 > threshold:\n",
    "                                    pred.append(1.0)\n",
    "                            else:\n",
    "                                pred.append(0.0)\n",
    "                else:\n",
    "                    if val > threshold:\n",
    "                        pred.append(1.0)\n",
    "                    else:\n",
    "                        pred.append(0.0)\n",
    "        for val in target_batch:\n",
    "            if isinstance(val,np.ndarray):\n",
    "                for v_1 in val:\n",
    "                    if isinstance(v_1,np.ndarray):\n",
    "                        for v_2 in v_1:\n",
    "                            target.append(v_2)\n",
    "                    else:\n",
    "                        target.append(v_1)\n",
    "            else:\n",
    "                target.append(val)\n",
    "        \n",
    "        acc = self.sk_metric_acc(target,pred)\n",
    "        f1 = self.sk_metric_f1(target,pred)\n",
    "        self.f1_tracker.update_state(target_batch,logits)\n",
    "        return {\"Loss\": self.loss_tracker.result(), \"Accuracy\": acc, 'F1-score':f1}\n",
    "    \n",
    "    def fit(self, train_dataset, test_dataset, epochs = 10, batch_size = 10, log_after_steps = 1000):\n",
    "        train_dataset.randomize()\n",
    "        for epoch in range(1,epochs+1):\n",
    "            print(\"\\nStart of epoch %d\" % (epoch,))\n",
    "            step = 0\n",
    "            self.counter = 0\n",
    "            for cat_batch, views_batch, images_batch, target_batch in train_dataset.generate_batches(batch_size):\n",
    "                train_out = self.train_step(cat_batch, views_batch, images_batch, target_batch, training = True)\n",
    "                step += batch_size\n",
    "\n",
    "                # Log every 200 steps.\n",
    "                if step % log_after_steps == 0:\n",
    "                    print(\"Training loss at step %d: %.4f\"  % (step, train_out['Loss'].numpy()))\n",
    "                    print(\"Training Accuracy at step %d: %.4f\"  % (step, train_out['Accuracy']))\n",
    "                    print(\"Training F1 at step %d: %.4f\"  % (step, train_out['F1-score']),'\\n')\n",
    "\n",
    "            loss, acc, f1 = self.eval(test_dataset, batch_size)\n",
    "            print(\"Eval Loss for epoch: \",loss.numpy())\n",
    "            print(\"Eval Accuracy for epoch: \",acc)\n",
    "            print(\"Eval F1 for epoch: \",f1)\n",
    "            self.acc_history.append(acc)\n",
    "            self.loss_history.append(loss.numpy())\n",
    "            self.f1_history.append(f1)\n",
    "            \n",
    "    def eval(self, dataset, batch_size, threshold = 0.5):\n",
    "        step = 0\n",
    "        out = []\n",
    "        target = []\n",
    "        final_out = []\n",
    "        final_target = []\n",
    "        for cat_batch, views_batch, images_batch, target_batch in dataset.generate_batches(batch_size):\n",
    "            logits = self(cat_batch, views_batch, images_batch, training=False)  \n",
    "            # Compute the loss value for this minibatch.\n",
    "            loss_value = self.loss_fn(target_batch, logits)\n",
    "            self.loss_tracker.update_state(loss_value)\n",
    "            self.acc_tracker.update_state(logits,target_batch)\n",
    "            self.f1_tracker.update_state(target_batch,logits)\n",
    "            out.append(logits.numpy())\n",
    "            target.append(target_batch)\n",
    "        for val in out:\n",
    "            if isinstance(val,np.ndarray):\n",
    "                for v_1 in val:\n",
    "                    if isinstance(v_1,np.ndarray):\n",
    "                        for v_2 in v_1:\n",
    "                            if v_2 > threshold:\n",
    "                                final_out.append(1.0)\n",
    "                            else:\n",
    "                                final_out.append(0.0)\n",
    "                    else:\n",
    "                        if v_1 > threshold:\n",
    "                                final_out.append(1.0)\n",
    "                        else:\n",
    "                            final_out.append(0.0)\n",
    "            else:\n",
    "                if val > threshold:\n",
    "                    final_out.append(1.0)\n",
    "                else:\n",
    "                    final_out.append(0.0)\n",
    "        for val in target:\n",
    "            if isinstance(val,np.ndarray):\n",
    "                for v_1 in val:\n",
    "                    if isinstance(v_1,np.ndarray):\n",
    "                        for v_2 in v_1:\n",
    "                            final_target.append(v_2)\n",
    "                    else:\n",
    "                        final_target.append(v_1)\n",
    "            else:\n",
    "                final_target.append(val)\n",
    "        return self.loss_tracker.result(), self.sk_metric_acc(final_target,final_out), self.sk_metric_f1(final_target,final_out)\n",
    "    \n",
    "    @property\n",
    "    def metrics(self):\n",
    "        # We list our `Metric` objects here so that `reset_states()` can be\n",
    "        # called automatically at the start of each epoch\n",
    "        # or at the start of `evaluate()`.\n",
    "        # If you don't implement this property, you have to call\n",
    "        # `reset_states()` yourself at the time of your choosing.\n",
    "        return [self.loss_tracker, self.acc_tracker, self.f1_tracker]\n",
    "         \n",
    "    def build_graph(self):\n",
    "        #Build for all Views\n",
    "        cat_batch = []\n",
    "        view_batch = []\n",
    "        images_batch = []\n",
    "        cat_batch.append(np.zeros(2))\n",
    "        view_batch.append(np.array(1))\n",
    "        images_batch.append(np.zeros((1024,1024,1))) \n",
    "        cat_batch = np.asarray(cat_batch)\n",
    "        view_batch = np.asarray(view_batch)\n",
    "        images_batch = np.asarray(images_batch)\n",
    "        output = self(cat_batch, view_batch, images_batch, training = True)        \n",
    "        return output\n",
    "    \n",
    "    def get_predictions(self, dataset):\n",
    "        out = []\n",
    "        target = []\n",
    "        final_out = []\n",
    "        final_target = []\n",
    "        for cat_batch, views_batch, images_batch, target_batch in dataset.generate_batches(batch_size=len(dataset.views)):\n",
    "            logits = model(cat_batch, views_batch, images_batch, training = False)\n",
    "            out.append(logits.numpy())\n",
    "            target.append(target_batch)\n",
    "        for val in out:\n",
    "            if isinstance(val,np.ndarray):\n",
    "                for v_1 in val:\n",
    "                    if isinstance(v_1,np.ndarray):\n",
    "                        for v_2 in v_1:\n",
    "                            final_out.append(v_2)\n",
    "                    else:\n",
    "                        final_out.append(v_1)\n",
    "            else:\n",
    "                final_out.append(val)\n",
    "        for val in target:\n",
    "            if isinstance(val,np.ndarray):\n",
    "                for v_1 in val:\n",
    "                    if isinstance(v_1,np.ndarray):\n",
    "                        for v_2 in v_1:\n",
    "                            final_target.append(v_2)\n",
    "                    else:\n",
    "                        final_target.append(v_1)\n",
    "            else:\n",
    "                final_target.append(val)\n",
    "        return final_out, final_target"
   ]
  },
  {
   "cell_type": "code",
   "execution_count": 20,
   "id": "93236f58",
   "metadata": {
    "execution": {
     "iopub.execute_input": "2023-02-03T10:25:44.416081Z",
     "iopub.status.busy": "2023-02-03T10:25:44.415648Z",
     "iopub.status.idle": "2023-02-03T10:25:44.633383Z",
     "shell.execute_reply": "2023-02-03T10:25:44.631618Z"
    },
    "papermill": {
     "duration": 0.231142,
     "end_time": "2023-02-03T10:25:44.636558",
     "exception": false,
     "start_time": "2023-02-03T10:25:44.405416",
     "status": "completed"
    },
    "tags": []
   },
   "outputs": [
    {
     "name": "stdout",
     "output_type": "stream",
     "text": [
      "Model: \"bcd_classifier\"\n",
      "_________________________________________________________________\n",
      "Layer (type)                 Output Shape              Param #   \n",
      "=================================================================\n",
      "input_2 (InputLayer)         [(None, 2)]               0         \n",
      "_________________________________________________________________\n",
      "encoder_1 (encoder)          multiple                  142465    \n",
      "_________________________________________________________________\n",
      "concatenate (Concatenate)    multiple                  0         \n",
      "_________________________________________________________________\n",
      "classifier_1 (classifier)    multiple                  361       \n",
      "=================================================================\n",
      "Total params: 142,834\n",
      "Trainable params: 142,634\n",
      "Non-trainable params: 200\n",
      "_________________________________________________________________\n"
     ]
    }
   ],
   "source": [
    "model = BCDClassifier((images_batch.shape[1],images_batch.shape[2],images_batch.shape[3]))\n",
    "model.build_graph()\n",
    "model.summary()"
   ]
  },
  {
   "cell_type": "code",
   "execution_count": 21,
   "id": "10ee4c37",
   "metadata": {
    "execution": {
     "iopub.execute_input": "2023-02-03T10:25:44.657192Z",
     "iopub.status.busy": "2023-02-03T10:25:44.656752Z",
     "iopub.status.idle": "2023-02-03T10:25:44.834846Z",
     "shell.execute_reply": "2023-02-03T10:25:44.833764Z"
    },
    "papermill": {
     "duration": 0.191651,
     "end_time": "2023-02-03T10:25:44.837424",
     "exception": false,
     "start_time": "2023-02-03T10:25:44.645773",
     "status": "completed"
    },
    "tags": []
   },
   "outputs": [
    {
     "data": {
      "text/plain": [
       "<tensorflow.python.training.tracking.util.CheckpointLoadStatus at 0x7ff3dfc0a2d0>"
      ]
     },
     "execution_count": 21,
     "metadata": {},
     "output_type": "execute_result"
    }
   ],
   "source": [
    "model.load_weights('/kaggle/input/bcdweights/BestModelv2/')"
   ]
  },
  {
   "cell_type": "code",
   "execution_count": 22,
   "id": "cc6b1310",
   "metadata": {
    "execution": {
     "iopub.execute_input": "2023-02-03T10:25:44.858287Z",
     "iopub.status.busy": "2023-02-03T10:25:44.857123Z",
     "iopub.status.idle": "2023-02-03T10:25:44.862521Z",
     "shell.execute_reply": "2023-02-03T10:25:44.861750Z"
    },
    "papermill": {
     "duration": 0.018227,
     "end_time": "2023-02-03T10:25:44.864748",
     "exception": false,
     "start_time": "2023-02-03T10:25:44.846521",
     "status": "completed"
    },
    "tags": []
   },
   "outputs": [],
   "source": [
    "sub_dataset = dataset(test_metadata,dataset_type = 'test')"
   ]
  },
  {
   "cell_type": "code",
   "execution_count": 23,
   "id": "afc526ed",
   "metadata": {
    "execution": {
     "iopub.execute_input": "2023-02-03T10:25:44.885119Z",
     "iopub.status.busy": "2023-02-03T10:25:44.884138Z",
     "iopub.status.idle": "2023-02-03T10:25:45.426265Z",
     "shell.execute_reply": "2023-02-03T10:25:45.425218Z"
    },
    "papermill": {
     "duration": 0.555489,
     "end_time": "2023-02-03T10:25:45.429256",
     "exception": false,
     "start_time": "2023-02-03T10:25:44.873767",
     "status": "completed"
    },
    "tags": []
   },
   "outputs": [],
   "source": [
    "y_pred_sub, y_true_sub = model.get_predictions(sub_dataset)"
   ]
  },
  {
   "cell_type": "code",
   "execution_count": 24,
   "id": "bd16629b",
   "metadata": {
    "execution": {
     "iopub.execute_input": "2023-02-03T10:25:45.456310Z",
     "iopub.status.busy": "2023-02-03T10:25:45.455321Z",
     "iopub.status.idle": "2023-02-03T10:25:45.462278Z",
     "shell.execute_reply": "2023-02-03T10:25:45.461477Z"
    },
    "papermill": {
     "duration": 0.021336,
     "end_time": "2023-02-03T10:25:45.464478",
     "exception": false,
     "start_time": "2023-02-03T10:25:45.443142",
     "status": "completed"
    },
    "tags": []
   },
   "outputs": [],
   "source": [
    "submit_dict = {'prediction_id':['10008_L','10008_R'],'cancer':[y_pred_sub[1],y_pred_sub[2]]}"
   ]
  },
  {
   "cell_type": "code",
   "execution_count": 25,
   "id": "3e3f5ea6",
   "metadata": {
    "execution": {
     "iopub.execute_input": "2023-02-03T10:25:45.486294Z",
     "iopub.status.busy": "2023-02-03T10:25:45.484958Z",
     "iopub.status.idle": "2023-02-03T10:25:45.493039Z",
     "shell.execute_reply": "2023-02-03T10:25:45.492022Z"
    },
    "papermill": {
     "duration": 0.021985,
     "end_time": "2023-02-03T10:25:45.495800",
     "exception": false,
     "start_time": "2023-02-03T10:25:45.473815",
     "status": "completed"
    },
    "tags": []
   },
   "outputs": [],
   "source": [
    "df = pd.DataFrame(submit_dict)"
   ]
  },
  {
   "cell_type": "code",
   "execution_count": 26,
   "id": "c5a21b9d",
   "metadata": {
    "execution": {
     "iopub.execute_input": "2023-02-03T10:25:45.517036Z",
     "iopub.status.busy": "2023-02-03T10:25:45.515922Z",
     "iopub.status.idle": "2023-02-03T10:25:45.528796Z",
     "shell.execute_reply": "2023-02-03T10:25:45.527674Z"
    },
    "papermill": {
     "duration": 0.026064,
     "end_time": "2023-02-03T10:25:45.531426",
     "exception": false,
     "start_time": "2023-02-03T10:25:45.505362",
     "status": "completed"
    },
    "tags": []
   },
   "outputs": [
    {
     "data": {
      "text/html": [
       "<div>\n",
       "<style scoped>\n",
       "    .dataframe tbody tr th:only-of-type {\n",
       "        vertical-align: middle;\n",
       "    }\n",
       "\n",
       "    .dataframe tbody tr th {\n",
       "        vertical-align: top;\n",
       "    }\n",
       "\n",
       "    .dataframe thead th {\n",
       "        text-align: right;\n",
       "    }\n",
       "</style>\n",
       "<table border=\"1\" class=\"dataframe\">\n",
       "  <thead>\n",
       "    <tr style=\"text-align: right;\">\n",
       "      <th></th>\n",
       "      <th>prediction_id</th>\n",
       "      <th>cancer</th>\n",
       "    </tr>\n",
       "  </thead>\n",
       "  <tbody>\n",
       "    <tr>\n",
       "      <th>0</th>\n",
       "      <td>10008_L</td>\n",
       "      <td>0.999897</td>\n",
       "    </tr>\n",
       "    <tr>\n",
       "      <th>1</th>\n",
       "      <td>10008_R</td>\n",
       "      <td>0.999774</td>\n",
       "    </tr>\n",
       "  </tbody>\n",
       "</table>\n",
       "</div>"
      ],
      "text/plain": [
       "  prediction_id    cancer\n",
       "0       10008_L  0.999897\n",
       "1       10008_R  0.999774"
      ]
     },
     "execution_count": 26,
     "metadata": {},
     "output_type": "execute_result"
    }
   ],
   "source": [
    "df.head()"
   ]
  },
  {
   "cell_type": "code",
   "execution_count": 27,
   "id": "cd7bc3e0",
   "metadata": {
    "execution": {
     "iopub.execute_input": "2023-02-03T10:25:45.553492Z",
     "iopub.status.busy": "2023-02-03T10:25:45.552408Z",
     "iopub.status.idle": "2023-02-03T10:25:45.560400Z",
     "shell.execute_reply": "2023-02-03T10:25:45.559510Z"
    },
    "papermill": {
     "duration": 0.021677,
     "end_time": "2023-02-03T10:25:45.562911",
     "exception": false,
     "start_time": "2023-02-03T10:25:45.541234",
     "status": "completed"
    },
    "tags": []
   },
   "outputs": [],
   "source": [
    "df.to_csv('submission.csv', index = False)"
   ]
  }
 ],
 "metadata": {
  "kernelspec": {
   "display_name": "Python 3",
   "language": "python",
   "name": "python3"
  },
  "language_info": {
   "codemirror_mode": {
    "name": "ipython",
    "version": 3
   },
   "file_extension": ".py",
   "mimetype": "text/x-python",
   "name": "python",
   "nbconvert_exporter": "python",
   "pygments_lexer": "ipython3",
   "version": "3.7.12"
  },
  "papermill": {
   "default_parameters": {},
   "duration": 25.183504,
   "end_time": "2023-02-03T10:25:49.006405",
   "environment_variables": {},
   "exception": null,
   "input_path": "__notebook__.ipynb",
   "output_path": "__notebook__.ipynb",
   "parameters": {},
   "start_time": "2023-02-03T10:25:23.822901",
   "version": "2.3.4"
  }
 },
 "nbformat": 4,
 "nbformat_minor": 5
}
